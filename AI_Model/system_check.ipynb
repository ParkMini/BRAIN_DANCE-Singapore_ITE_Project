{
 "cells": [
  {
   "cell_type": "markdown",
   "metadata": {},
   "source": [
    "# CPU, GPU Check"
   ]
  },
  {
   "cell_type": "code",
   "execution_count": null,
   "metadata": {},
   "outputs": [],
   "source": [
    "from openvino.runtime import Core\n",
    "\n",
    "# Initialize OpenVINO Core\n",
    "core = Core()\n",
    "\n",
    "# Get available devices\n",
    "available_devices = core.available_devices\n",
    "\n",
    "# Function to get device details\n",
    "def get_device_details(device):\n",
    "    device_properties = core.get_property(device, \"FULL_DEVICE_NAME\")\n",
    "    return device_properties\n",
    "\n",
    "# Get and display details for each device\n",
    "for device in available_devices:\n",
    "    device_details = get_device_details(device)\n",
    "    print(f\"Details for {device}: {device_details}\")\n"
   ]
  },
  {
   "cell_type": "markdown",
   "metadata": {},
   "source": [
    "# CPU, GPU Detail Check"
   ]
  },
  {
   "cell_type": "code",
   "execution_count": null,
   "metadata": {},
   "outputs": [],
   "source": [
    "from openvino.runtime import Core\n",
    "\n",
    "# Initialize OpenVINO Core\n",
    "core = Core()\n",
    "\n",
    "# Get available devices\n",
    "available_devices = core.available_devices\n",
    "\n",
    "# Function to get device properties\n",
    "def get_device_properties(device):\n",
    "    properties = core.get_property(device, \"SUPPORTED_PROPERTIES\")\n",
    "    details = {prop: core.get_property(device, prop) for prop in properties}\n",
    "    return details\n",
    "\n",
    "# Get and display properties for each device\n",
    "for device in available_devices:\n",
    "    device_properties = get_device_properties(device)\n",
    "    print(f\"Properties for {device}:\")\n",
    "    for prop, value in device_properties.items():\n",
    "        print(f\"  {prop}: {value}\")\n"
   ]
  },
  {
   "cell_type": "code",
   "execution_count": null,
   "metadata": {},
   "outputs": [],
   "source": [
    "import ipywidgets as widgets\n",
    "from IPython.display import display\n",
    "from openvino.runtime import Core\n",
    "\n",
    "# Initialize OpenVINO Core\n",
    "core = Core()\n",
    "\n",
    "# Get available devices\n",
    "available_devices = core.available_devices\n",
    "\n",
    "# Function to get device properties\n",
    "def get_device_properties(device):\n",
    "    properties = core.get_property(device, \"SUPPORTED_PROPERTIES\")\n",
    "    details = {prop: core.get_property(device, prop) for prop in properties}\n",
    "    return details\n",
    "\n",
    "# Create a dropdown widget for device selection\n",
    "device_dropdown = widgets.Dropdown(\n",
    "    options=available_devices,\n",
    "    description='Device:',\n",
    "    disabled=False,\n",
    ")\n",
    "\n",
    "# Create an output widget to display device properties\n",
    "output = widgets.Output()\n",
    "\n",
    "# Define a function to update the output widget\n",
    "def update_output(change):\n",
    "    device = change['new']\n",
    "    device_properties = get_device_properties(device)\n",
    "    with output:\n",
    "        output.clear_output()\n",
    "        print(f\"Properties for {device}:\")\n",
    "        for prop, value in device_properties.items():\n",
    "            print(f\"  {prop}: {value}\")\n",
    "\n",
    "# Attach the update_output function to the dropdown widget\n",
    "device_dropdown.observe(update_output, names='value')\n",
    "\n",
    "# Display the widgets\n",
    "display(device_dropdown)\n",
    "display(output)\n",
    "\n",
    "# Initialize the output with the first device's properties\n",
    "update_output({'new': available_devices[0]})\n"
   ]
  }
 ],
 "metadata": {
  "kernelspec": {
   "display_name": "Python 3",
   "language": "python",
   "name": "python3"
  },
  "language_info": {
   "codemirror_mode": {
    "name": "ipython",
    "version": 3
   },
   "file_extension": ".py",
   "mimetype": "text/x-python",
   "name": "python",
   "nbconvert_exporter": "python",
   "pygments_lexer": "ipython3",
   "version": "3.12.3"
  }
 },
 "nbformat": 4,
 "nbformat_minor": 2
}
